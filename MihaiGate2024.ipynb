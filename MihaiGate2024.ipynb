{
 "cells": [
  {
   "cell_type": "code",
   "execution_count": 83,
   "id": "4c845b8f",
   "metadata": {
    "tags": []
   },
   "outputs": [],
   "source": [
    "# Import packages\n",
    "import pandas as pd\n",
    "import numpy as np\n",
    "import yfinance as yf\n",
    "import pandas_datareader as pdr\n",
    "import statsmodels.api as sm\n",
    "import math as ma"
   ]
  },
  {
   "cell_type": "code",
   "execution_count": 84,
   "id": "e925b665-08ea-46cd-8026-3ca4e2a91360",
   "metadata": {},
   "outputs": [],
   "source": [
    "def indent():\n",
    "    print()\n",
    "    print()"
   ]
  },
  {
   "cell_type": "code",
   "execution_count": 85,
   "id": "f5a0fcaf",
   "metadata": {},
   "outputs": [
    {
     "data": {
      "text/html": [
       "<div>\n",
       "<style scoped>\n",
       "    .dataframe tbody tr th:only-of-type {\n",
       "        vertical-align: middle;\n",
       "    }\n",
       "\n",
       "    .dataframe tbody tr th {\n",
       "        vertical-align: top;\n",
       "    }\n",
       "\n",
       "    .dataframe thead th {\n",
       "        text-align: right;\n",
       "    }\n",
       "</style>\n",
       "<table border=\"1\" class=\"dataframe\">\n",
       "  <thead>\n",
       "    <tr style=\"text-align: right;\">\n",
       "      <th></th>\n",
       "      <th>Mkt-RF</th>\n",
       "      <th>SMB</th>\n",
       "      <th>HML</th>\n",
       "      <th>RF</th>\n",
       "    </tr>\n",
       "    <tr>\n",
       "      <th>Date</th>\n",
       "      <th></th>\n",
       "      <th></th>\n",
       "      <th></th>\n",
       "      <th></th>\n",
       "    </tr>\n",
       "  </thead>\n",
       "  <tbody>\n",
       "    <tr>\n",
       "      <th>1926-07</th>\n",
       "      <td>0.0296</td>\n",
       "      <td>-0.0256</td>\n",
       "      <td>-0.0243</td>\n",
       "      <td>0.0022</td>\n",
       "    </tr>\n",
       "    <tr>\n",
       "      <th>1926-08</th>\n",
       "      <td>0.0264</td>\n",
       "      <td>-0.0117</td>\n",
       "      <td>0.0382</td>\n",
       "      <td>0.0025</td>\n",
       "    </tr>\n",
       "    <tr>\n",
       "      <th>1926-09</th>\n",
       "      <td>0.0036</td>\n",
       "      <td>-0.0140</td>\n",
       "      <td>0.0013</td>\n",
       "      <td>0.0023</td>\n",
       "    </tr>\n",
       "    <tr>\n",
       "      <th>1926-10</th>\n",
       "      <td>-0.0324</td>\n",
       "      <td>-0.0009</td>\n",
       "      <td>0.0070</td>\n",
       "      <td>0.0032</td>\n",
       "    </tr>\n",
       "    <tr>\n",
       "      <th>1926-11</th>\n",
       "      <td>0.0253</td>\n",
       "      <td>-0.0010</td>\n",
       "      <td>-0.0051</td>\n",
       "      <td>0.0031</td>\n",
       "    </tr>\n",
       "    <tr>\n",
       "      <th>...</th>\n",
       "      <td>...</td>\n",
       "      <td>...</td>\n",
       "      <td>...</td>\n",
       "      <td>...</td>\n",
       "    </tr>\n",
       "    <tr>\n",
       "      <th>2023-09</th>\n",
       "      <td>-0.0524</td>\n",
       "      <td>-0.0251</td>\n",
       "      <td>0.0152</td>\n",
       "      <td>0.0043</td>\n",
       "    </tr>\n",
       "    <tr>\n",
       "      <th>2023-10</th>\n",
       "      <td>-0.0319</td>\n",
       "      <td>-0.0387</td>\n",
       "      <td>0.0019</td>\n",
       "      <td>0.0047</td>\n",
       "    </tr>\n",
       "    <tr>\n",
       "      <th>2023-11</th>\n",
       "      <td>0.0884</td>\n",
       "      <td>-0.0002</td>\n",
       "      <td>0.0164</td>\n",
       "      <td>0.0044</td>\n",
       "    </tr>\n",
       "    <tr>\n",
       "      <th>2023-12</th>\n",
       "      <td>0.0485</td>\n",
       "      <td>0.0634</td>\n",
       "      <td>0.0493</td>\n",
       "      <td>0.0043</td>\n",
       "    </tr>\n",
       "    <tr>\n",
       "      <th>2024-01</th>\n",
       "      <td>0.0070</td>\n",
       "      <td>-0.0507</td>\n",
       "      <td>-0.0239</td>\n",
       "      <td>0.0047</td>\n",
       "    </tr>\n",
       "  </tbody>\n",
       "</table>\n",
       "<p>1171 rows × 4 columns</p>\n",
       "</div>"
      ],
      "text/plain": [
       "         Mkt-RF     SMB     HML      RF\n",
       "Date                                   \n",
       "1926-07  0.0296 -0.0256 -0.0243  0.0022\n",
       "1926-08  0.0264 -0.0117  0.0382  0.0025\n",
       "1926-09  0.0036 -0.0140  0.0013  0.0023\n",
       "1926-10 -0.0324 -0.0009  0.0070  0.0032\n",
       "1926-11  0.0253 -0.0010 -0.0051  0.0031\n",
       "...         ...     ...     ...     ...\n",
       "2023-09 -0.0524 -0.0251  0.0152  0.0043\n",
       "2023-10 -0.0319 -0.0387  0.0019  0.0047\n",
       "2023-11  0.0884 -0.0002  0.0164  0.0044\n",
       "2023-12  0.0485  0.0634  0.0493  0.0043\n",
       "2024-01  0.0070 -0.0507 -0.0239  0.0047\n",
       "\n",
       "[1171 rows x 4 columns]"
      ]
     },
     "execution_count": 85,
     "metadata": {},
     "output_type": "execute_result"
    }
   ],
   "source": [
    "# Load Fama-French factor data\n",
    "ff3f = pdr.DataReader('F-F_Research_Data_Factors', 'famafrench', '1926-01-01', '2024-03-31')[0]/100\n",
    "ff3f.head(5)\n",
    "ff3f.iloc[:,:]"
   ]
  },
  {
   "cell_type": "code",
   "execution_count": 86,
   "id": "7047a068",
   "metadata": {},
   "outputs": [
    {
     "name": "stderr",
     "output_type": "stream",
     "text": [
      "[*********************100%%**********************]  1 of 1 completed\n"
     ]
    },
    {
     "data": {
      "text/html": [
       "<div>\n",
       "<style scoped>\n",
       "    .dataframe tbody tr th:only-of-type {\n",
       "        vertical-align: middle;\n",
       "    }\n",
       "\n",
       "    .dataframe tbody tr th {\n",
       "        vertical-align: top;\n",
       "    }\n",
       "\n",
       "    .dataframe thead th {\n",
       "        text-align: right;\n",
       "    }\n",
       "</style>\n",
       "<table border=\"1\" class=\"dataframe\">\n",
       "  <thead>\n",
       "    <tr style=\"text-align: right;\">\n",
       "      <th></th>\n",
       "      <th>Returns</th>\n",
       "    </tr>\n",
       "    <tr>\n",
       "      <th>Date</th>\n",
       "      <th></th>\n",
       "    </tr>\n",
       "  </thead>\n",
       "  <tbody>\n",
       "    <tr>\n",
       "      <th>2015-02</th>\n",
       "      <td>0.148958</td>\n",
       "    </tr>\n",
       "    <tr>\n",
       "      <th>2015-03</th>\n",
       "      <td>-0.047571</td>\n",
       "    </tr>\n",
       "  </tbody>\n",
       "</table>\n",
       "</div>"
      ],
      "text/plain": [
       "          Returns\n",
       "Date             \n",
       "2015-02  0.148958\n",
       "2015-03 -0.047571"
      ]
     },
     "execution_count": 86,
     "metadata": {},
     "output_type": "execute_result"
    }
   ],
   "source": [
    "    # Download monthly prices (keep only Adjusted Close prices)\n",
    "ticker = 'NVDA'   \n",
    "    \n",
    "firm_prices = yf.download(ticker, '2015-01-01', '2020-12-31', interval = '1mo')['Adj Close'].dropna().to_frame()\n",
    "\n",
    "    # Calculate monthly returns, drop missing, convert from Series to DataFrame\n",
    "firm_ret = firm_prices.pct_change().dropna()\n",
    "\n",
    "    # Rename \"Adj Close\" to \"TSLA\"\n",
    "firm_ret.rename(columns = {'Adj Close': 'Returns'}, inplace = True)\n",
    "\n",
    "    # Convert index to monthly period date\n",
    "firm_ret.index = firm_ret.index.to_period('M')\n",
    "firm_ret.head(2)"
   ]
  },
  {
   "cell_type": "code",
   "execution_count": 87,
   "id": "fceba268",
   "metadata": {},
   "outputs": [
    {
     "data": {
      "text/html": [
       "<div>\n",
       "<style scoped>\n",
       "    .dataframe tbody tr th:only-of-type {\n",
       "        vertical-align: middle;\n",
       "    }\n",
       "\n",
       "    .dataframe tbody tr th {\n",
       "        vertical-align: top;\n",
       "    }\n",
       "\n",
       "    .dataframe thead th {\n",
       "        text-align: right;\n",
       "    }\n",
       "</style>\n",
       "<table border=\"1\" class=\"dataframe\">\n",
       "  <thead>\n",
       "    <tr style=\"text-align: right;\">\n",
       "      <th></th>\n",
       "      <th>Returns</th>\n",
       "      <th>Mkt-RF</th>\n",
       "      <th>SMB</th>\n",
       "      <th>HML</th>\n",
       "      <th>RF</th>\n",
       "      <th>const</th>\n",
       "    </tr>\n",
       "    <tr>\n",
       "      <th>Date</th>\n",
       "      <th></th>\n",
       "      <th></th>\n",
       "      <th></th>\n",
       "      <th></th>\n",
       "      <th></th>\n",
       "      <th></th>\n",
       "    </tr>\n",
       "  </thead>\n",
       "  <tbody>\n",
       "    <tr>\n",
       "      <th>2015-02</th>\n",
       "      <td>0.148958</td>\n",
       "      <td>0.0613</td>\n",
       "      <td>0.0063</td>\n",
       "      <td>-0.0186</td>\n",
       "      <td>0.0</td>\n",
       "      <td>1</td>\n",
       "    </tr>\n",
       "    <tr>\n",
       "      <th>2015-03</th>\n",
       "      <td>-0.047571</td>\n",
       "      <td>-0.0112</td>\n",
       "      <td>0.0304</td>\n",
       "      <td>-0.0037</td>\n",
       "      <td>0.0</td>\n",
       "      <td>1</td>\n",
       "    </tr>\n",
       "  </tbody>\n",
       "</table>\n",
       "</div>"
      ],
      "text/plain": [
       "          Returns  Mkt-RF     SMB     HML   RF  const\n",
       "Date                                                 \n",
       "2015-02  0.148958  0.0613  0.0063 -0.0186  0.0      1\n",
       "2015-03 -0.047571 -0.0112  0.0304 -0.0037  0.0      1"
      ]
     },
     "execution_count": 87,
     "metadata": {},
     "output_type": "execute_result"
    }
   ],
   "source": [
    "# Merge the two datasets\n",
    "data = firm_ret.join(ff3f)\n",
    "data['const'] = 1\n",
    "data.head(2)"
   ]
  },
  {
   "cell_type": "code",
   "execution_count": 88,
   "id": "6863c3ca",
   "metadata": {},
   "outputs": [
    {
     "data": {
      "text/plain": [
       "Date\n",
       "2015-02    0.148958\n",
       "2015-03   -0.047571\n",
       "Freq: M, dtype: float64"
      ]
     },
     "execution_count": 88,
     "metadata": {},
     "output_type": "execute_result"
    }
   ],
   "source": [
    "# Set up the data\n",
    "    # Dependent variable (left side of the equal sign)\n",
    "y = data['Returns'] - data['RF']\n",
    "y.head(2)"
   ]
  },
  {
   "cell_type": "code",
   "execution_count": 89,
   "id": "edac0f71",
   "metadata": {},
   "outputs": [
    {
     "data": {
      "text/html": [
       "<div>\n",
       "<style scoped>\n",
       "    .dataframe tbody tr th:only-of-type {\n",
       "        vertical-align: middle;\n",
       "    }\n",
       "\n",
       "    .dataframe tbody tr th {\n",
       "        vertical-align: top;\n",
       "    }\n",
       "\n",
       "    .dataframe thead th {\n",
       "        text-align: right;\n",
       "    }\n",
       "</style>\n",
       "<table border=\"1\" class=\"dataframe\">\n",
       "  <thead>\n",
       "    <tr style=\"text-align: right;\">\n",
       "      <th></th>\n",
       "      <th>const</th>\n",
       "      <th>Mkt-RF</th>\n",
       "    </tr>\n",
       "    <tr>\n",
       "      <th>Date</th>\n",
       "      <th></th>\n",
       "      <th></th>\n",
       "    </tr>\n",
       "  </thead>\n",
       "  <tbody>\n",
       "    <tr>\n",
       "      <th>2015-02</th>\n",
       "      <td>1</td>\n",
       "      <td>0.0613</td>\n",
       "    </tr>\n",
       "    <tr>\n",
       "      <th>2015-03</th>\n",
       "      <td>1</td>\n",
       "      <td>-0.0112</td>\n",
       "    </tr>\n",
       "  </tbody>\n",
       "</table>\n",
       "</div>"
      ],
      "text/plain": [
       "         const  Mkt-RF\n",
       "Date                  \n",
       "2015-02      1  0.0613\n",
       "2015-03      1 -0.0112"
      ]
     },
     "execution_count": 89,
     "metadata": {},
     "output_type": "execute_result"
    }
   ],
   "source": [
    "    # Independent variable(s) (right side of the equal sign)\n",
    "X = data[['const','Mkt-RF']]\n",
    "X.head(2)"
   ]
  },
  {
   "cell_type": "code",
   "execution_count": 90,
   "id": "b9067025",
   "metadata": {},
   "outputs": [
    {
     "name": "stdout",
     "output_type": "stream",
     "text": [
      "                            OLS Regression Results                            \n",
      "==============================================================================\n",
      "Dep. Variable:                      y   R-squared:                       0.236\n",
      "Model:                            OLS   Adj. R-squared:                  0.225\n",
      "Method:                 Least Squares   F-statistic:                     21.31\n",
      "Date:                Sun, 24 Mar 2024   Prob (F-statistic):           1.75e-05\n",
      "Time:                        22:54:08   Log-Likelihood:                 58.819\n",
      "No. Observations:                  71   AIC:                            -113.6\n",
      "Df Residuals:                      69   BIC:                            -109.1\n",
      "Df Model:                           1                                         \n",
      "Covariance Type:            nonrobust                                         \n",
      "==============================================================================\n",
      "                 coef    std err          t      P>|t|      [0.025      0.975]\n",
      "------------------------------------------------------------------------------\n",
      "const          0.0397      0.013      3.026      0.003       0.014       0.066\n",
      "Mkt-RF         1.2944      0.280      4.616      0.000       0.735       1.854\n",
      "==============================================================================\n",
      "Omnibus:                        4.173   Durbin-Watson:                   1.854\n",
      "Prob(Omnibus):                  0.124   Jarque-Bera (JB):                3.549\n",
      "Skew:                           0.353   Prob(JB):                        0.170\n",
      "Kurtosis:                       3.838   Cond. No.                         22.0\n",
      "==============================================================================\n",
      "\n",
      "Notes:\n",
      "[1] Standard Errors assume that the covariance matrix of the errors is correctly specified.\n",
      "Reminder that 1 - Rsquared equals the percentage of the firms total risk that can be diversified away (idiosyncratic)\n"
     ]
    }
   ],
   "source": [
    "# Run single factor regression and store results in \"res\" object\n",
    "res = sm.OLS(y,X).fit()\n",
    "print(res.summary())\n",
    "print(\"Reminder that 1 - Rsquared equals the percentage of the firms total risk that can be diversified away (idiosyncratic)\")"
   ]
  },
  {
   "cell_type": "code",
   "execution_count": 91,
   "id": "8368ef10",
   "metadata": {},
   "outputs": [
    {
     "name": "stdout",
     "output_type": "stream",
     "text": [
      "The Adjusted Beta For NVDA is: 1.1972327976486767\n"
     ]
    }
   ],
   "source": [
    "#Adjusted Betas\n",
    "l = 0.33\n",
    "hBeta = res.params[1]\n",
    "Adj_Beta = hBeta * (1-l) + l\n",
    "print(f\"The Adjusted Beta For {ticker} is: {Adj_Beta}\")"
   ]
  },
  {
   "cell_type": "code",
   "execution_count": 92,
   "id": "8486b38a-f2d8-476b-80a4-4cb146d248ef",
   "metadata": {},
   "outputs": [
    {
     "name": "stdout",
     "output_type": "stream",
     "text": [
      "The total risk of NVDA equals: 0.014825033380208923\n",
      "\n",
      "\n",
      "The systematic risk equals: 0.0034980933292737292\n",
      "The idiosyncratic risk equals: 0.011326940050935194\n",
      "\n",
      " percent systematic risk =  0.2360 \n",
      " percent idiosyncratic risk =  0.7640\n"
     ]
    }
   ],
   "source": [
    "tot_risk  = y.var()\n",
    "\n",
    "print(f\"The total risk of {ticker} equals: {tot_risk}\")\n",
    "\n",
    "indent()\n",
    "\n",
    "beta = res.params['Mkt-RF']\n",
    "sys_risk  = (beta**2) * data['Mkt-RF'].var() \n",
    "\n",
    "print(f\"The systematic risk equals: {sys_risk}\")\n",
    "\n",
    "#Idiosyncratic Risk \n",
    "idio_risk = tot_risk - sys_risk\n",
    "print(f\"The idiosyncratic risk equals: {idio_risk}\")\n",
    "\n",
    "#As percentages\n",
    "# Print as percentages of total risk\n",
    "pct_sys_risk = sys_risk / tot_risk\n",
    "pct_idio_risk = idio_risk / tot_risk\n",
    "print(f'\\n percent systematic risk = {pct_sys_risk: .4f} \\n percent idiosyncratic risk = {pct_idio_risk: .4f}')"
   ]
  },
  {
   "cell_type": "code",
   "execution_count": 93,
   "id": "71d4a1d2",
   "metadata": {},
   "outputs": [
    {
     "name": "stdout",
     "output_type": "stream",
     "text": [
      "The Annualized Cost of Equity for NVDA is: 16.172%\n"
     ]
    }
   ],
   "source": [
    "#Single Factor Cost of Equity\n",
    "Emrp = sum(ff3f['Mkt-RF']) / len(ff3f['Mkt-RF'])\n",
    "Rf = 0.0047 #Set this depending if RF is given to you in question, or if the question asks to use to most recent number\n",
    "COE = (Rf + hBeta * Emrp) *12 * 100\n",
    "COE_r = round(COE, 3)\n",
    "print(f\"The Annualized Cost of Equity for {ticker} is: {COE_r}%\")"
   ]
  },
  {
   "cell_type": "code",
   "execution_count": 94,
   "id": "b0c5515e-8fce-4282-b014-b59df0400204",
   "metadata": {
    "tags": []
   },
   "outputs": [
    {
     "name": "stdout",
     "output_type": "stream",
     "text": [
      "Reject the null that true alpha is 0: we should reject the null hypothesis that the true alpha is 0\n",
      "NVDA is undervalued\n"
     ]
    }
   ],
   "source": [
    "#Single Factor P Val Interpretation\n",
    "p_vals1 = res.pvalues\n",
    "alpha = res.params[0]\n",
    "if p_vals1['const'] < 0.01: #Set your significance level here\n",
    "    print(f\"Reject the null that true alpha is 0: we should reject the null hypothesis that the true alpha is 0\")\n",
    "    if alpha > 0:\n",
    "        print(f\"{ticker} is undervalued\")\n",
    "    else:\n",
    "        print(f\"{ticker} is overvalued\")\n",
    "else:\n",
    "    print(f\"Cannot reject the null that alpha is 0: we do not have sifficient eidence that the stock is mispriced\")"
   ]
  },
  {
   "cell_type": "code",
   "execution_count": 95,
   "id": "bc244ed1",
   "metadata": {},
   "outputs": [
    {
     "name": "stdout",
     "output_type": "stream",
     "text": [
      "Fama French 3 Factor Regression\n",
      "                            OLS Regression Results                            \n",
      "==============================================================================\n",
      "Dep. Variable:                      y   R-squared:                       0.254\n",
      "Model:                            OLS   Adj. R-squared:                  0.220\n",
      "Method:                 Least Squares   F-statistic:                     7.585\n",
      "Date:                Sun, 24 Mar 2024   Prob (F-statistic):           0.000193\n",
      "Time:                        22:54:08   Log-Likelihood:                 59.645\n",
      "No. Observations:                  71   AIC:                            -111.3\n",
      "Df Residuals:                      67   BIC:                            -102.2\n",
      "Df Model:                           3                                         \n",
      "Covariance Type:            nonrobust                                         \n",
      "==============================================================================\n",
      "                 coef    std err          t      P>|t|      [0.025      0.975]\n",
      "------------------------------------------------------------------------------\n",
      "const          0.0351      0.014      2.564      0.013       0.008       0.062\n",
      "Mkt-RF         1.3630      0.305      4.471      0.000       0.755       1.971\n",
      "SMB           -0.0027      0.541     -0.005      0.996      -1.082       1.077\n",
      "HML           -0.5274      0.428     -1.232      0.222      -1.382       0.327\n",
      "==============================================================================\n",
      "Omnibus:                        4.411   Durbin-Watson:                   1.805\n",
      "Prob(Omnibus):                  0.110   Jarque-Bera (JB):                3.745\n",
      "Skew:                           0.384   Prob(JB):                        0.154\n",
      "Kurtosis:                       3.822   Cond. No.                         44.2\n",
      "==============================================================================\n",
      "\n",
      "Notes:\n",
      "[1] Standard Errors assume that the covariance matrix of the errors is correctly specified.\n"
     ]
    }
   ],
   "source": [
    "#Estimate the Fama-French three factor model using the data gathered above\n",
    "\n",
    "\n",
    "# Set up X variables\n",
    "X3 = data[['const','Mkt-RF','SMB','HML']]\n",
    "# Run regression\n",
    "res3 = sm.OLS(y,X3).fit()\n",
    "print(\"Fama French 3 Factor Regression\")\n",
    "print(res3.summary())"
   ]
  },
  {
   "cell_type": "code",
   "execution_count": 96,
   "id": "68fb82ef-8412-4d22-812f-79c05338871f",
   "metadata": {
    "tags": []
   },
   "outputs": [
    {
     "name": "stdout",
     "output_type": "stream",
     "text": [
      "The Adjusted Three Factor Beta For NVDA is: 1.2432062061504128\n"
     ]
    }
   ],
   "source": [
    "#Three Factor Adjusted Beta\n",
    "h3Beta = res3.params[1]\n",
    "Adj_Beta = h3Beta * (1-l) + l\n",
    "print(f\"The Adjusted Three Factor Beta For {ticker} is: {Adj_Beta}\")"
   ]
  },
  {
   "cell_type": "code",
   "execution_count": 97,
   "id": "b9844ad2",
   "metadata": {},
   "outputs": [
    {
     "name": "stdout",
     "output_type": "stream",
     "text": [
      "Again, the total risk of NVDA equals: 0.014825033380208923\n",
      "\n",
      "\n",
      "The 3 factor systematic risk equals: 0.003878802911547808\n",
      "The 3 factor idiosyncratic risk equals: 0.011326940050935194\n"
     ]
    }
   ],
   "source": [
    "# Total risk of our stock (variance) in 3 factor (also works in single factor)\n",
    "\n",
    "print(f\"Again, the total risk of {ticker} equals: {tot_risk}\")\n",
    "\n",
    "indent()\n",
    "\n",
    "# Systematic Risk\n",
    "beta3 = res3.params['Mkt-RF']\n",
    "sys_risk3  = (beta3**2) * data['Mkt-RF'].var() \n",
    "\n",
    "print(f\"The 3 factor systematic risk equals: {sys_risk3}\")\n",
    "\n",
    "#Idiosyncratic Risk \n",
    "idio_risk3 = tot_risk - sys_risk\n",
    "print(f\"The 3 factor idiosyncratic risk equals: {idio_risk3}\")"
   ]
  },
  {
   "cell_type": "code",
   "execution_count": 98,
   "id": "cb966e6f",
   "metadata": {
    "tags": []
   },
   "outputs": [
    {
     "name": "stdout",
     "output_type": "stream",
     "text": [
      "\n",
      " 3 factor percent systematic risk =  0.2616 \n",
      " 3 factor percent idiosyncratic risk =  0.7640\n"
     ]
    }
   ],
   "source": [
    "# Print as percentages of total risk\n",
    "pct_sys_risk = sys_risk3 / tot_risk\n",
    "pct_idio_risk = idio_risk3 / tot_risk\n",
    "print(f'\\n 3 factor percent systematic risk = {pct_sys_risk: .4f} \\n 3 factor percent idiosyncratic risk = {pct_idio_risk: .4f}')"
   ]
  },
  {
   "cell_type": "code",
   "execution_count": 99,
   "id": "e2622bb9-dddd-4b1a-9a9e-54c0a6929e1a",
   "metadata": {
    "tags": []
   },
   "outputs": [
    {
     "name": "stdout",
     "output_type": "stream",
     "text": [
      "Cannot reject the null that alpha is 0: we do not have sifficient eidence that the stock is mispriced\n"
     ]
    }
   ],
   "source": [
    "#Pvalue and Alpha for 3 factor model\n",
    "p_vals = res3.pvalues\n",
    "if p_vals['const'] < 0.01: #Set your significance level here\n",
    "    print(f\"Reject the null that true alpha is 0: we should reject the null hypothesis that the true alpha is 0\")\n",
    "else:\n",
    "    print(f\"Cannot reject the null that alpha is 0: we do not have sifficient eidence that the stock is mispriced\")"
   ]
  },
  {
   "cell_type": "code",
   "execution_count": 100,
   "id": "cf92ec4c",
   "metadata": {
    "tags": []
   },
   "outputs": [
    {
     "name": "stdout",
     "output_type": "stream",
     "text": [
      " HML - -0.5274408572132163 and SMB - -0.002744685826872817 and the market beta 1.3629943375379296\n",
      "The **Annualized*** Cost of Equity for NVDA is: 14.537%\n"
     ]
    }
   ],
   "source": [
    "#Cost of Equity in 3 factor\n",
    "#We already have our risk free rate variabe \"Rf\" \n",
    "#and the expected Market RIsk Premium \"Ermp\" and beta for the stock \"hBeta\"\n",
    "#We now need the exp ret for our other two factors and their betas\n",
    "#also we need to update the beta \"hBeta\" to \"h3Beta\"\n",
    "\n",
    "#Expected Returns\n",
    "ErSMB = sum(ff3f['SMB']) / len(ff3f['SMB'])\n",
    "ErHML = sum(ff3f['HML']) / len(ff3f['HML'])\n",
    "\n",
    "#SMB, HML, and 3h Betas\n",
    "Bhml = res3.params[3]\n",
    "Bsmb = res3.params[2]\n",
    "h3Beta = res3.params[1]\n",
    "print(f\" HML - {Bhml} and SMB - {Bsmb} and the market beta {h3Beta}\")\n",
    "\n",
    "\n",
    "f3COE = Rf + (h3Beta * Emrp) + (Bsmb * ErSMB) + (Bhml * ErHML)\n",
    "Af3COE = (f3COE * 12) * 100\n",
    "\n",
    "\n",
    "print(f\"The **Annualized*** Cost of Equity for {ticker} is: {Af3COE.round(3)}%\")\n"
   ]
  },
  {
   "cell_type": "code",
   "execution_count": null,
   "id": "b65e348d",
   "metadata": {},
   "outputs": [],
   "source": []
  }
 ],
 "metadata": {
  "kernelspec": {
   "display_name": "Python 3 (ipykernel)",
   "language": "python",
   "name": "python3"
  },
  "language_info": {
   "codemirror_mode": {
    "name": "ipython",
    "version": 3
   },
   "file_extension": ".py",
   "mimetype": "text/x-python",
   "name": "python",
   "nbconvert_exporter": "python",
   "pygments_lexer": "ipython3",
   "version": "3.11.5"
  }
 },
 "nbformat": 4,
 "nbformat_minor": 5
}
