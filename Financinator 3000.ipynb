{
 "cells": [
  {
   "cell_type": "code",
   "execution_count": 24,
   "id": "4c845b8f",
   "metadata": {
    "tags": []
   },
   "outputs": [],
   "source": [
    "# Import packages\n",
    "import pandas as pd\n",
    "import numpy as np\n",
    "import yfinance as yf\n",
    "import pandas_datareader as pdr\n",
    "import statsmodels.api as sm\n",
    "import math as ma"
   ]
  },
  {
   "cell_type": "code",
   "execution_count": 25,
   "id": "f5a0fcaf",
   "metadata": {},
   "outputs": [
    {
     "data": {
      "text/html": [
       "<div>\n",
       "<style scoped>\n",
       "    .dataframe tbody tr th:only-of-type {\n",
       "        vertical-align: middle;\n",
       "    }\n",
       "\n",
       "    .dataframe tbody tr th {\n",
       "        vertical-align: top;\n",
       "    }\n",
       "\n",
       "    .dataframe thead th {\n",
       "        text-align: right;\n",
       "    }\n",
       "</style>\n",
       "<table border=\"1\" class=\"dataframe\">\n",
       "  <thead>\n",
       "    <tr style=\"text-align: right;\">\n",
       "      <th></th>\n",
       "      <th>Mkt-RF</th>\n",
       "      <th>SMB</th>\n",
       "      <th>HML</th>\n",
       "      <th>RF</th>\n",
       "    </tr>\n",
       "    <tr>\n",
       "      <th>Date</th>\n",
       "      <th></th>\n",
       "      <th></th>\n",
       "      <th></th>\n",
       "      <th></th>\n",
       "    </tr>\n",
       "  </thead>\n",
       "  <tbody>\n",
       "    <tr>\n",
       "      <th>1950-01</th>\n",
       "      <td>0.0170</td>\n",
       "      <td>0.0333</td>\n",
       "      <td>0.0012</td>\n",
       "      <td>0.0009</td>\n",
       "    </tr>\n",
       "    <tr>\n",
       "      <th>1950-02</th>\n",
       "      <td>0.0148</td>\n",
       "      <td>0.0003</td>\n",
       "      <td>-0.0079</td>\n",
       "      <td>0.0009</td>\n",
       "    </tr>\n",
       "    <tr>\n",
       "      <th>1950-03</th>\n",
       "      <td>0.0126</td>\n",
       "      <td>-0.0144</td>\n",
       "      <td>-0.0281</td>\n",
       "      <td>0.0010</td>\n",
       "    </tr>\n",
       "    <tr>\n",
       "      <th>1950-04</th>\n",
       "      <td>0.0394</td>\n",
       "      <td>0.0194</td>\n",
       "      <td>0.0130</td>\n",
       "      <td>0.0009</td>\n",
       "    </tr>\n",
       "    <tr>\n",
       "      <th>1950-05</th>\n",
       "      <td>0.0431</td>\n",
       "      <td>-0.0210</td>\n",
       "      <td>0.0046</td>\n",
       "      <td>0.0010</td>\n",
       "    </tr>\n",
       "  </tbody>\n",
       "</table>\n",
       "</div>"
      ],
      "text/plain": [
       "         Mkt-RF     SMB     HML      RF\n",
       "Date                                   \n",
       "1950-01  0.0170  0.0333  0.0012  0.0009\n",
       "1950-02  0.0148  0.0003 -0.0079  0.0009\n",
       "1950-03  0.0126 -0.0144 -0.0281  0.0010\n",
       "1950-04  0.0394  0.0194  0.0130  0.0009\n",
       "1950-05  0.0431 -0.0210  0.0046  0.0010"
      ]
     },
     "execution_count": 25,
     "metadata": {},
     "output_type": "execute_result"
    }
   ],
   "source": [
    "# Load Fama-French factor data\n",
    "ff3f = pdr.DataReader('F-F_Research_Data_Factors', 'famafrench', '1950-01-01', '2020-12-31')[0]/100\n",
    "ff3f.head(5)"
   ]
  },
  {
   "cell_type": "code",
   "execution_count": 26,
   "id": "7047a068",
   "metadata": {},
   "outputs": [
    {
     "name": "stderr",
     "output_type": "stream",
     "text": [
      "[*********************100%%**********************]  1 of 1 completed\n"
     ]
    },
    {
     "data": {
      "text/html": [
       "<div>\n",
       "<style scoped>\n",
       "    .dataframe tbody tr th:only-of-type {\n",
       "        vertical-align: middle;\n",
       "    }\n",
       "\n",
       "    .dataframe tbody tr th {\n",
       "        vertical-align: top;\n",
       "    }\n",
       "\n",
       "    .dataframe thead th {\n",
       "        text-align: right;\n",
       "    }\n",
       "</style>\n",
       "<table border=\"1\" class=\"dataframe\">\n",
       "  <thead>\n",
       "    <tr style=\"text-align: right;\">\n",
       "      <th></th>\n",
       "      <th>Returns</th>\n",
       "    </tr>\n",
       "    <tr>\n",
       "      <th>Date</th>\n",
       "      <th></th>\n",
       "    </tr>\n",
       "  </thead>\n",
       "  <tbody>\n",
       "    <tr>\n",
       "      <th>2016-02</th>\n",
       "      <td>-0.076420</td>\n",
       "    </tr>\n",
       "    <tr>\n",
       "      <th>2016-03</th>\n",
       "      <td>0.093289</td>\n",
       "    </tr>\n",
       "  </tbody>\n",
       "</table>\n",
       "</div>"
      ],
      "text/plain": [
       "          Returns\n",
       "Date             \n",
       "2016-02 -0.076420\n",
       "2016-03  0.093289"
      ]
     },
     "execution_count": 26,
     "metadata": {},
     "output_type": "execute_result"
    }
   ],
   "source": [
    "    # Download monthly prices (keep only Adjusted Close prices)\n",
    "ticker = 'MSFT'    \n",
    "    \n",
    "firm_prices = yf.download(ticker, '2016-01-01', '2020-12-31', interval = '1mo')['Adj Close'].dropna().to_frame()\n",
    "\n",
    "    # Calculate monthly returns, drop missing, convert from Series to DataFrame\n",
    "firm_ret = firm_prices.pct_change().dropna()\n",
    "\n",
    "    # Rename \"Adj Close\" to \"TSLA\"\n",
    "firm_ret.rename(columns = {'Adj Close': 'Returns'}, inplace = True)\n",
    "\n",
    "    # Convert index to monthly period date\n",
    "firm_ret.index = firm_ret.index.to_period('M')\n",
    "firm_ret.head(2)"
   ]
  },
  {
   "cell_type": "code",
   "execution_count": 27,
   "id": "fceba268",
   "metadata": {},
   "outputs": [
    {
     "data": {
      "text/html": [
       "<div>\n",
       "<style scoped>\n",
       "    .dataframe tbody tr th:only-of-type {\n",
       "        vertical-align: middle;\n",
       "    }\n",
       "\n",
       "    .dataframe tbody tr th {\n",
       "        vertical-align: top;\n",
       "    }\n",
       "\n",
       "    .dataframe thead th {\n",
       "        text-align: right;\n",
       "    }\n",
       "</style>\n",
       "<table border=\"1\" class=\"dataframe\">\n",
       "  <thead>\n",
       "    <tr style=\"text-align: right;\">\n",
       "      <th></th>\n",
       "      <th>Returns</th>\n",
       "      <th>Mkt-RF</th>\n",
       "      <th>SMB</th>\n",
       "      <th>HML</th>\n",
       "      <th>RF</th>\n",
       "      <th>const</th>\n",
       "    </tr>\n",
       "    <tr>\n",
       "      <th>Date</th>\n",
       "      <th></th>\n",
       "      <th></th>\n",
       "      <th></th>\n",
       "      <th></th>\n",
       "      <th></th>\n",
       "      <th></th>\n",
       "    </tr>\n",
       "  </thead>\n",
       "  <tbody>\n",
       "    <tr>\n",
       "      <th>2016-02</th>\n",
       "      <td>-0.076420</td>\n",
       "      <td>-0.0007</td>\n",
       "      <td>0.0073</td>\n",
       "      <td>-0.0057</td>\n",
       "      <td>0.0002</td>\n",
       "      <td>1</td>\n",
       "    </tr>\n",
       "    <tr>\n",
       "      <th>2016-03</th>\n",
       "      <td>0.093289</td>\n",
       "      <td>0.0696</td>\n",
       "      <td>0.0082</td>\n",
       "      <td>0.0119</td>\n",
       "      <td>0.0002</td>\n",
       "      <td>1</td>\n",
       "    </tr>\n",
       "  </tbody>\n",
       "</table>\n",
       "</div>"
      ],
      "text/plain": [
       "          Returns  Mkt-RF     SMB     HML      RF  const\n",
       "Date                                                    \n",
       "2016-02 -0.076420 -0.0007  0.0073 -0.0057  0.0002      1\n",
       "2016-03  0.093289  0.0696  0.0082  0.0119  0.0002      1"
      ]
     },
     "execution_count": 27,
     "metadata": {},
     "output_type": "execute_result"
    }
   ],
   "source": [
    "# Merge the two datasets\n",
    "data = firm_ret.join(ff3f)\n",
    "data['const'] = 1\n",
    "data.head(2)"
   ]
  },
  {
   "cell_type": "code",
   "execution_count": 28,
   "id": "6863c3ca",
   "metadata": {},
   "outputs": [
    {
     "data": {
      "text/plain": [
       "Date\n",
       "2016-02   -0.076620\n",
       "2016-03    0.093089\n",
       "Freq: M, dtype: float64"
      ]
     },
     "execution_count": 28,
     "metadata": {},
     "output_type": "execute_result"
    }
   ],
   "source": [
    "# Set up the data\n",
    "    # Dependent variable (left side of the equal sign)\n",
    "y = data['Returns'] - data['RF']\n",
    "y.head(2)"
   ]
  },
  {
   "cell_type": "code",
   "execution_count": 29,
   "id": "edac0f71",
   "metadata": {},
   "outputs": [
    {
     "data": {
      "text/html": [
       "<div>\n",
       "<style scoped>\n",
       "    .dataframe tbody tr th:only-of-type {\n",
       "        vertical-align: middle;\n",
       "    }\n",
       "\n",
       "    .dataframe tbody tr th {\n",
       "        vertical-align: top;\n",
       "    }\n",
       "\n",
       "    .dataframe thead th {\n",
       "        text-align: right;\n",
       "    }\n",
       "</style>\n",
       "<table border=\"1\" class=\"dataframe\">\n",
       "  <thead>\n",
       "    <tr style=\"text-align: right;\">\n",
       "      <th></th>\n",
       "      <th>const</th>\n",
       "      <th>Mkt-RF</th>\n",
       "    </tr>\n",
       "    <tr>\n",
       "      <th>Date</th>\n",
       "      <th></th>\n",
       "      <th></th>\n",
       "    </tr>\n",
       "  </thead>\n",
       "  <tbody>\n",
       "    <tr>\n",
       "      <th>2016-02</th>\n",
       "      <td>1</td>\n",
       "      <td>-0.0007</td>\n",
       "    </tr>\n",
       "    <tr>\n",
       "      <th>2016-03</th>\n",
       "      <td>1</td>\n",
       "      <td>0.0696</td>\n",
       "    </tr>\n",
       "  </tbody>\n",
       "</table>\n",
       "</div>"
      ],
      "text/plain": [
       "         const  Mkt-RF\n",
       "Date                  \n",
       "2016-02      1 -0.0007\n",
       "2016-03      1  0.0696"
      ]
     },
     "execution_count": 29,
     "metadata": {},
     "output_type": "execute_result"
    }
   ],
   "source": [
    "    # Independent variable(s) (right side of the equal sign)\n",
    "X = data[['const','Mkt-RF']]\n",
    "X.head(2)"
   ]
  },
  {
   "cell_type": "code",
   "execution_count": 30,
   "id": "b9067025",
   "metadata": {},
   "outputs": [
    {
     "name": "stdout",
     "output_type": "stream",
     "text": [
      "                            OLS Regression Results                            \n",
      "==============================================================================\n",
      "Dep. Variable:                      y   R-squared:                       0.445\n",
      "Model:                            OLS   Adj. R-squared:                  0.435\n",
      "Method:                 Least Squares   F-statistic:                     45.67\n",
      "Date:                Wed, 13 Mar 2024   Prob (F-statistic):           8.05e-09\n",
      "Time:                        20:46:40   Log-Likelihood:                 107.47\n",
      "No. Observations:                  59   AIC:                            -210.9\n",
      "Df Residuals:                      57   BIC:                            -206.8\n",
      "Df Model:                           1                                         \n",
      "Covariance Type:            nonrobust                                         \n",
      "==============================================================================\n",
      "                 coef    std err          t      P>|t|      [0.025      0.975]\n",
      "------------------------------------------------------------------------------\n",
      "const          0.0153      0.005      2.813      0.007       0.004       0.026\n",
      "Mkt-RF         0.7620      0.113      6.758      0.000       0.536       0.988\n",
      "==============================================================================\n",
      "Omnibus:                        2.630   Durbin-Watson:                   2.535\n",
      "Prob(Omnibus):                  0.268   Jarque-Bera (JB):                1.753\n",
      "Skew:                          -0.326   Prob(JB):                        0.416\n",
      "Kurtosis:                       3.536   Cond. No.                         21.8\n",
      "==============================================================================\n",
      "\n",
      "Notes:\n",
      "[1] Standard Errors assume that the covariance matrix of the errors is correctly specified.\n",
      "Reminder that 1 - Rsquared equals the percentage of the firms total risk that can be diversified away (idiosyncratic)\n"
     ]
    }
   ],
   "source": [
    "# Run single factor regression and store results in \"res\" object\n",
    "res = sm.OLS(y,X).fit()\n",
    "print(res.summary())\n",
    "print(\"Reminder that 1 - Rsquared equals the percentage of the firms total risk that can be diversified away (idiosyncratic)\")"
   ]
  },
  {
   "cell_type": "code",
   "execution_count": 31,
   "id": "8368ef10",
   "metadata": {},
   "outputs": [
    {
     "name": "stdout",
     "output_type": "stream",
     "text": [
      "The Adjusted Beta For MSFT is: 0.840518490961532\n"
     ]
    }
   ],
   "source": [
    "#Adjusted Betas\n",
    "l = 0.33\n",
    "hBeta = res.params[1]\n",
    "Adj_Beta = hBeta * (1-l) + l\n",
    "print(f\"The Adjusted Beta For {ticker} is: {Adj_Beta}\")"
   ]
  },
  {
   "cell_type": "code",
   "execution_count": 32,
   "id": "71d4a1d2",
   "metadata": {},
   "outputs": [
    {
     "name": "stdout",
     "output_type": "stream",
     "text": [
      "The Annualized Cost of Equity for MSFT is: 6.228%\n"
     ]
    }
   ],
   "source": [
    "#Single Factor Cost of Equity\n",
    "Emrp = sum(ff3f['Mkt-RF']) / len(ff3f['Mkt-RF'])\n",
    "Rf = 0.0001\n",
    "COE = (Rf + hBeta * Emrp) *12 * 100\n",
    "COE_r = round(COE, 3)\n",
    "print(f\"The Annualized Cost of Equity for {ticker} is: {COE_r}%\")"
   ]
  },
  {
   "cell_type": "code",
   "execution_count": 33,
   "id": "bc244ed1",
   "metadata": {},
   "outputs": [
    {
     "name": "stdout",
     "output_type": "stream",
     "text": [
      "                            OLS Regression Results                            \n",
      "==============================================================================\n",
      "Dep. Variable:                      y   R-squared:                       0.554\n",
      "Model:                            OLS   Adj. R-squared:                  0.529\n",
      "Method:                 Least Squares   F-statistic:                     22.74\n",
      "Date:                Wed, 13 Mar 2024   Prob (F-statistic):           1.05e-09\n",
      "Time:                        20:46:40   Log-Likelihood:                 113.91\n",
      "No. Observations:                  59   AIC:                            -219.8\n",
      "Df Residuals:                      55   BIC:                            -211.5\n",
      "Df Model:                           3                                         \n",
      "Covariance Type:            nonrobust                                         \n",
      "==============================================================================\n",
      "                 coef    std err          t      P>|t|      [0.025      0.975]\n",
      "------------------------------------------------------------------------------\n",
      "const          0.0107      0.005      2.063      0.044       0.000       0.021\n",
      "Mkt-RF         0.9426      0.115      8.182      0.000       0.712       1.173\n",
      "SMB           -0.4716      0.208     -2.267      0.027      -0.889      -0.055\n",
      "HML           -0.3660      0.153     -2.393      0.020      -0.672      -0.060\n",
      "==============================================================================\n",
      "Omnibus:                        5.352   Durbin-Watson:                   2.602\n",
      "Prob(Omnibus):                  0.069   Jarque-Bera (JB):                4.674\n",
      "Skew:                          -0.470   Prob(JB):                       0.0966\n",
      "Kurtosis:                       4.008   Cond. No.                         45.7\n",
      "==============================================================================\n",
      "\n",
      "Notes:\n",
      "[1] Standard Errors assume that the covariance matrix of the errors is correctly specified.\n"
     ]
    }
   ],
   "source": [
    "#Estimate the Fama-French three factor model using the data gathered above\n",
    "\n",
    "\n",
    "# Set up X variables\n",
    "X3 = data[['const','Mkt-RF','SMB','HML']]\n",
    "# Run regression\n",
    "res3 = sm.OLS(y,X3).fit()\n",
    "print(res3.summary())"
   ]
  },
  {
   "cell_type": "code",
   "execution_count": 37,
   "id": "b9844ad2",
   "metadata": {},
   "outputs": [
    {
     "name": "stdout",
     "output_type": "stream",
     "text": [
      "The total risk of MSFT equals: 0.0028077908811993627\n",
      "The systematic risk equals: 0.0012489551941581379\n",
      "The idiosyncratic risk equals: 0.0015588356870412249\n"
     ]
    }
   ],
   "source": [
    "# Total risk of our stock (variance) in 3 factor (also works in single factor)\n",
    "tot_risk  = y.var()\n",
    "print(f\"The total risk of {ticker} equals: {tot_risk}\")\n",
    "\n",
    "# Systematic Risk\n",
    "beta = res.params['Mkt-RF']\n",
    "sys_risk  = (beta**2) * data['Mkt-RF'].var() \n",
    "print(f\"The systematic risk equals: {sys_risk}\")\n",
    "\n",
    "#Idiosyncratic Risk \n",
    "idio_risk = tot_risk - sys_risk\n",
    "print(f\"The idiosyncratic risk equals: {idio_risk}\")"
   ]
  },
  {
   "cell_type": "code",
   "execution_count": 35,
   "id": "cb966e6f",
   "metadata": {
    "tags": []
   },
   "outputs": [
    {
     "name": "stdout",
     "output_type": "stream",
     "text": [
      "\n",
      " percent systematic risk =  0.4448 \n",
      " percent idiosyncratic risk =  0.5552\n"
     ]
    }
   ],
   "source": [
    "# Print as percentages of total risk\n",
    "pct_sys_risk = sys_risk / tot_risk\n",
    "pct_idio_risk = idio_risk / tot_risk\n",
    "print(f'\\n percent systematic risk = {pct_sys_risk: .4f} \\n percent idiosyncratic risk = {pct_idio_risk: .4f}')"
   ]
  },
  {
   "cell_type": "code",
   "execution_count": 36,
   "id": "cf92ec4c",
   "metadata": {
    "tags": []
   },
   "outputs": [
    {
     "name": "stdout",
     "output_type": "stream",
     "text": [
      " HML - -0.36598822658177455 and SMB - -0.4716492557868956 and the market beta 0.9425620895335998\n",
      "The **Annualized*** Cost of Equity for MSFT is: 5.668%\n"
     ]
    }
   ],
   "source": [
    "#Cost of Equity in 3 factor\n",
    "#We already have our risk free rate variabe \"Rf\" \n",
    "#and the expected Market RIsk Premium \"Ermp\" and beta for the stock \"hBeta\"\n",
    "#We now need the exp ret for our other two factors and their betas\n",
    "#also we need to update the beta \"hBeta\" to \"h3Beta\"\n",
    "\n",
    "#Expected Returns\n",
    "ErSMB = sum(ff3f['SMB']) / len(ff3f['SMB'])\n",
    "ErHML = sum(ff3f['HML']) / len(ff3f['HML'])\n",
    "\n",
    "#SMB, HML, and 3h Betas\n",
    "Bhml = res3.params[3]\n",
    "Bsmb = res3.params[2]\n",
    "h3Beta = res3.params[1]\n",
    "print(f\" HML - {Bhml} and SMB - {Bsmb} and the market beta {h3Beta}\")\n",
    "\n",
    "\n",
    "f3COE = Rf + (h3Beta * Emrp) + (Bsmb * ErSMB) + (Bhml * ErHML)\n",
    "Af3COE = (f3COE * 12) * 100\n",
    "\n",
    "\n",
    "print(f\"The **Annualized*** Cost of Equity for {ticker} is: {Af3COE.round(3)}%\")\n"
   ]
  },
  {
   "cell_type": "code",
   "execution_count": null,
   "id": "b65e348d",
   "metadata": {},
   "outputs": [],
   "source": []
  }
 ],
 "metadata": {
  "kernelspec": {
   "display_name": "Python 3 (ipykernel)",
   "language": "python",
   "name": "python3"
  },
  "language_info": {
   "codemirror_mode": {
    "name": "ipython",
    "version": 3
   },
   "file_extension": ".py",
   "mimetype": "text/x-python",
   "name": "python",
   "nbconvert_exporter": "python",
   "pygments_lexer": "ipython3",
   "version": "3.11.5"
  }
 },
 "nbformat": 4,
 "nbformat_minor": 5
}
