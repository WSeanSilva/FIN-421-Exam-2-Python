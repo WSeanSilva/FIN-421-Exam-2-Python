{
 "cells": [
  {
   "cell_type": "code",
   "execution_count": 2,
   "id": "4c845b8f",
   "metadata": {
    "tags": []
   },
   "outputs": [],
   "source": [
    "# Import packages\n",
    "import pandas as pd\n",
    "import numpy as np\n",
    "import yfinance as yf\n",
    "import pandas_datareader as pdr\n",
    "import statsmodels.api as sm\n",
    "import math as ma"
   ]
  },
  {
   "cell_type": "code",
   "execution_count": 3,
   "id": "e925b665-08ea-46cd-8026-3ca4e2a91360",
   "metadata": {},
   "outputs": [],
   "source": [
    "def indent():\n",
    "    print()\n",
    "    print()"
   ]
  },
  {
   "cell_type": "code",
   "execution_count": 4,
   "id": "f5a0fcaf",
   "metadata": {},
   "outputs": [
    {
     "data": {
      "text/html": [
       "<div>\n",
       "<style scoped>\n",
       "    .dataframe tbody tr th:only-of-type {\n",
       "        vertical-align: middle;\n",
       "    }\n",
       "\n",
       "    .dataframe tbody tr th {\n",
       "        vertical-align: top;\n",
       "    }\n",
       "\n",
       "    .dataframe thead th {\n",
       "        text-align: right;\n",
       "    }\n",
       "</style>\n",
       "<table border=\"1\" class=\"dataframe\">\n",
       "  <thead>\n",
       "    <tr style=\"text-align: right;\">\n",
       "      <th></th>\n",
       "      <th>Mkt-RF</th>\n",
       "      <th>SMB</th>\n",
       "      <th>HML</th>\n",
       "      <th>RF</th>\n",
       "    </tr>\n",
       "    <tr>\n",
       "      <th>Date</th>\n",
       "      <th></th>\n",
       "      <th></th>\n",
       "      <th></th>\n",
       "      <th></th>\n",
       "    </tr>\n",
       "  </thead>\n",
       "  <tbody>\n",
       "    <tr>\n",
       "      <th>2018-12</th>\n",
       "      <td>-0.0957</td>\n",
       "      <td>-0.0238</td>\n",
       "      <td>-0.0184</td>\n",
       "      <td>0.0020</td>\n",
       "    </tr>\n",
       "    <tr>\n",
       "      <th>2019-01</th>\n",
       "      <td>0.0840</td>\n",
       "      <td>0.0290</td>\n",
       "      <td>-0.0046</td>\n",
       "      <td>0.0021</td>\n",
       "    </tr>\n",
       "    <tr>\n",
       "      <th>2019-02</th>\n",
       "      <td>0.0340</td>\n",
       "      <td>0.0205</td>\n",
       "      <td>-0.0267</td>\n",
       "      <td>0.0018</td>\n",
       "    </tr>\n",
       "    <tr>\n",
       "      <th>2019-03</th>\n",
       "      <td>0.0110</td>\n",
       "      <td>-0.0305</td>\n",
       "      <td>-0.0417</td>\n",
       "      <td>0.0019</td>\n",
       "    </tr>\n",
       "    <tr>\n",
       "      <th>2019-04</th>\n",
       "      <td>0.0397</td>\n",
       "      <td>-0.0174</td>\n",
       "      <td>0.0215</td>\n",
       "      <td>0.0021</td>\n",
       "    </tr>\n",
       "    <tr>\n",
       "      <th>...</th>\n",
       "      <td>...</td>\n",
       "      <td>...</td>\n",
       "      <td>...</td>\n",
       "      <td>...</td>\n",
       "    </tr>\n",
       "    <tr>\n",
       "      <th>2023-10</th>\n",
       "      <td>-0.0319</td>\n",
       "      <td>-0.0387</td>\n",
       "      <td>0.0019</td>\n",
       "      <td>0.0047</td>\n",
       "    </tr>\n",
       "    <tr>\n",
       "      <th>2023-11</th>\n",
       "      <td>0.0884</td>\n",
       "      <td>-0.0002</td>\n",
       "      <td>0.0164</td>\n",
       "      <td>0.0044</td>\n",
       "    </tr>\n",
       "    <tr>\n",
       "      <th>2023-12</th>\n",
       "      <td>0.0487</td>\n",
       "      <td>0.0634</td>\n",
       "      <td>0.0493</td>\n",
       "      <td>0.0043</td>\n",
       "    </tr>\n",
       "    <tr>\n",
       "      <th>2024-01</th>\n",
       "      <td>0.0071</td>\n",
       "      <td>-0.0509</td>\n",
       "      <td>-0.0238</td>\n",
       "      <td>0.0047</td>\n",
       "    </tr>\n",
       "    <tr>\n",
       "      <th>2024-02</th>\n",
       "      <td>0.0506</td>\n",
       "      <td>-0.0024</td>\n",
       "      <td>-0.0348</td>\n",
       "      <td>0.0042</td>\n",
       "    </tr>\n",
       "  </tbody>\n",
       "</table>\n",
       "<p>63 rows × 4 columns</p>\n",
       "</div>"
      ],
      "text/plain": [
       "         Mkt-RF     SMB     HML      RF\n",
       "Date                                   \n",
       "2018-12 -0.0957 -0.0238 -0.0184  0.0020\n",
       "2019-01  0.0840  0.0290 -0.0046  0.0021\n",
       "2019-02  0.0340  0.0205 -0.0267  0.0018\n",
       "2019-03  0.0110 -0.0305 -0.0417  0.0019\n",
       "2019-04  0.0397 -0.0174  0.0215  0.0021\n",
       "...         ...     ...     ...     ...\n",
       "2023-10 -0.0319 -0.0387  0.0019  0.0047\n",
       "2023-11  0.0884 -0.0002  0.0164  0.0044\n",
       "2023-12  0.0487  0.0634  0.0493  0.0043\n",
       "2024-01  0.0071 -0.0509 -0.0238  0.0047\n",
       "2024-02  0.0506 -0.0024 -0.0348  0.0042\n",
       "\n",
       "[63 rows x 4 columns]"
      ]
     },
     "execution_count": 4,
     "metadata": {},
     "output_type": "execute_result"
    }
   ],
   "source": [
    "# Load Fama-French factor data\n",
    "ff3f = pdr.DataReader('F-F_Research_Data_Factors', 'famafrench', '2018-12-31', '2024-12-31')[0]/100\n",
    "ff3f.head(5)\n",
    "ff3f.iloc[:,:]\n",
    "#Gives you most recent RF rate too (found at bottom of printed list)"
   ]
  },
  {
   "cell_type": "code",
   "execution_count": 5,
   "id": "7047a068",
   "metadata": {},
   "outputs": [
    {
     "name": "stderr",
     "output_type": "stream",
     "text": [
      "[*********************100%%**********************]  1 of 1 completed\n"
     ]
    },
    {
     "data": {
      "text/html": [
       "<div>\n",
       "<style scoped>\n",
       "    .dataframe tbody tr th:only-of-type {\n",
       "        vertical-align: middle;\n",
       "    }\n",
       "\n",
       "    .dataframe tbody tr th {\n",
       "        vertical-align: top;\n",
       "    }\n",
       "\n",
       "    .dataframe thead th {\n",
       "        text-align: right;\n",
       "    }\n",
       "</style>\n",
       "<table border=\"1\" class=\"dataframe\">\n",
       "  <thead>\n",
       "    <tr style=\"text-align: right;\">\n",
       "      <th></th>\n",
       "      <th>Returns</th>\n",
       "    </tr>\n",
       "    <tr>\n",
       "      <th>Date</th>\n",
       "      <th></th>\n",
       "    </tr>\n",
       "  </thead>\n",
       "  <tbody>\n",
       "    <tr>\n",
       "      <th>2019-02</th>\n",
       "      <td>0.072776</td>\n",
       "    </tr>\n",
       "    <tr>\n",
       "      <th>2019-03</th>\n",
       "      <td>0.057250</td>\n",
       "    </tr>\n",
       "  </tbody>\n",
       "</table>\n",
       "</div>"
      ],
      "text/plain": [
       "          Returns\n",
       "Date             \n",
       "2019-02  0.072776\n",
       "2019-03  0.057250"
      ]
     },
     "execution_count": 5,
     "metadata": {},
     "output_type": "execute_result"
    }
   ],
   "source": [
    "    # Download monthly prices (keep only Adjusted Close prices)\n",
    "ticker = 'MSFT'   \n",
    "    \n",
    "firm_prices = yf.download(ticker, '2018-12-31', '2024-01-31', interval = '1mo')['Adj Close'].dropna().to_frame()\n",
    "\n",
    "    # Calculate monthly returns, drop missing, convert from Series to DataFrame\n",
    "firm_ret = firm_prices.pct_change().dropna()\n",
    "\n",
    "    # Rename \"Adj Close\" to \"TSLA\"\n",
    "firm_ret.rename(columns = {'Adj Close': 'Returns'}, inplace = True)\n",
    "\n",
    "    # Convert index to monthly period date\n",
    "firm_ret.index = firm_ret.index.to_period('M')\n",
    "firm_ret.head(2)"
   ]
  },
  {
   "cell_type": "code",
   "execution_count": 6,
   "id": "fceba268",
   "metadata": {},
   "outputs": [
    {
     "data": {
      "text/html": [
       "<div>\n",
       "<style scoped>\n",
       "    .dataframe tbody tr th:only-of-type {\n",
       "        vertical-align: middle;\n",
       "    }\n",
       "\n",
       "    .dataframe tbody tr th {\n",
       "        vertical-align: top;\n",
       "    }\n",
       "\n",
       "    .dataframe thead th {\n",
       "        text-align: right;\n",
       "    }\n",
       "</style>\n",
       "<table border=\"1\" class=\"dataframe\">\n",
       "  <thead>\n",
       "    <tr style=\"text-align: right;\">\n",
       "      <th></th>\n",
       "      <th>Returns</th>\n",
       "      <th>Mkt-RF</th>\n",
       "      <th>SMB</th>\n",
       "      <th>HML</th>\n",
       "      <th>RF</th>\n",
       "      <th>const</th>\n",
       "    </tr>\n",
       "    <tr>\n",
       "      <th>Date</th>\n",
       "      <th></th>\n",
       "      <th></th>\n",
       "      <th></th>\n",
       "      <th></th>\n",
       "      <th></th>\n",
       "      <th></th>\n",
       "    </tr>\n",
       "  </thead>\n",
       "  <tbody>\n",
       "    <tr>\n",
       "      <th>2019-02</th>\n",
       "      <td>0.072776</td>\n",
       "      <td>0.034</td>\n",
       "      <td>0.0205</td>\n",
       "      <td>-0.0267</td>\n",
       "      <td>0.0018</td>\n",
       "      <td>1</td>\n",
       "    </tr>\n",
       "    <tr>\n",
       "      <th>2019-03</th>\n",
       "      <td>0.057250</td>\n",
       "      <td>0.011</td>\n",
       "      <td>-0.0305</td>\n",
       "      <td>-0.0417</td>\n",
       "      <td>0.0019</td>\n",
       "      <td>1</td>\n",
       "    </tr>\n",
       "  </tbody>\n",
       "</table>\n",
       "</div>"
      ],
      "text/plain": [
       "          Returns  Mkt-RF     SMB     HML      RF  const\n",
       "Date                                                    \n",
       "2019-02  0.072776   0.034  0.0205 -0.0267  0.0018      1\n",
       "2019-03  0.057250   0.011 -0.0305 -0.0417  0.0019      1"
      ]
     },
     "execution_count": 6,
     "metadata": {},
     "output_type": "execute_result"
    }
   ],
   "source": [
    "# Merge the two datasets\n",
    "data = firm_ret.join(ff3f)\n",
    "data['const'] = 1\n",
    "data.head(2)"
   ]
  },
  {
   "cell_type": "code",
   "execution_count": 7,
   "id": "6863c3ca",
   "metadata": {},
   "outputs": [
    {
     "data": {
      "text/plain": [
       "Date\n",
       "2019-02    0.070976\n",
       "2019-03    0.055350\n",
       "Freq: M, dtype: float64"
      ]
     },
     "execution_count": 7,
     "metadata": {},
     "output_type": "execute_result"
    }
   ],
   "source": [
    "# Set up the data\n",
    "    # Dependent variable (left side of the equal sign)\n",
    "y = data['Returns'] - data['RF']\n",
    "y.head(2)"
   ]
  },
  {
   "cell_type": "code",
   "execution_count": 8,
   "id": "edac0f71",
   "metadata": {},
   "outputs": [
    {
     "data": {
      "text/html": [
       "<div>\n",
       "<style scoped>\n",
       "    .dataframe tbody tr th:only-of-type {\n",
       "        vertical-align: middle;\n",
       "    }\n",
       "\n",
       "    .dataframe tbody tr th {\n",
       "        vertical-align: top;\n",
       "    }\n",
       "\n",
       "    .dataframe thead th {\n",
       "        text-align: right;\n",
       "    }\n",
       "</style>\n",
       "<table border=\"1\" class=\"dataframe\">\n",
       "  <thead>\n",
       "    <tr style=\"text-align: right;\">\n",
       "      <th></th>\n",
       "      <th>const</th>\n",
       "      <th>Mkt-RF</th>\n",
       "    </tr>\n",
       "    <tr>\n",
       "      <th>Date</th>\n",
       "      <th></th>\n",
       "      <th></th>\n",
       "    </tr>\n",
       "  </thead>\n",
       "  <tbody>\n",
       "    <tr>\n",
       "      <th>2019-02</th>\n",
       "      <td>1</td>\n",
       "      <td>0.034</td>\n",
       "    </tr>\n",
       "    <tr>\n",
       "      <th>2019-03</th>\n",
       "      <td>1</td>\n",
       "      <td>0.011</td>\n",
       "    </tr>\n",
       "  </tbody>\n",
       "</table>\n",
       "</div>"
      ],
      "text/plain": [
       "         const  Mkt-RF\n",
       "Date                  \n",
       "2019-02      1   0.034\n",
       "2019-03      1   0.011"
      ]
     },
     "execution_count": 8,
     "metadata": {},
     "output_type": "execute_result"
    }
   ],
   "source": [
    "    # Independent variable(s) (right side of the equal sign)\n",
    "X = data[['const','Mkt-RF']]\n",
    "X.head(2)"
   ]
  },
  {
   "cell_type": "code",
   "execution_count": 9,
   "id": "b9067025",
   "metadata": {},
   "outputs": [
    {
     "name": "stdout",
     "output_type": "stream",
     "text": [
      "                            OLS Regression Results                            \n",
      "==============================================================================\n",
      "Dep. Variable:                      y   R-squared:                       0.528\n",
      "Model:                            OLS   Adj. R-squared:                  0.520\n",
      "Method:                 Least Squares   F-statistic:                     64.93\n",
      "Date:                Mon, 08 Apr 2024   Prob (F-statistic):           4.89e-11\n",
      "Time:                        11:55:07   Log-Likelihood:                 103.31\n",
      "No. Observations:                  60   AIC:                            -202.6\n",
      "Df Residuals:                      58   BIC:                            -198.4\n",
      "Df Model:                           1                                         \n",
      "Covariance Type:            nonrobust                                         \n",
      "==============================================================================\n",
      "                 coef    std err          t      P>|t|      [0.025      0.975]\n",
      "------------------------------------------------------------------------------\n",
      "const          0.0149      0.006      2.581      0.012       0.003       0.027\n",
      "Mkt-RF         0.8424      0.105      8.058      0.000       0.633       1.052\n",
      "==============================================================================\n",
      "Omnibus:                        3.418   Durbin-Watson:                   1.897\n",
      "Prob(Omnibus):                  0.181   Jarque-Bera (JB):                2.980\n",
      "Skew:                           0.546   Prob(JB):                        0.225\n",
      "Kurtosis:                       2.994   Cond. No.                         18.4\n",
      "==============================================================================\n",
      "\n",
      "Notes:\n",
      "[1] Standard Errors assume that the covariance matrix of the errors is correctly specified.\n",
      "Reminder that 1 - Rsquared equals the percentage of the firms total risk that can be diversified away (idiosyncratic)\n"
     ]
    }
   ],
   "source": [
    "# Run single factor regression and store results in \"res\" object\n",
    "res = sm.OLS(y,X).fit()\n",
    "print(res.summary())\n",
    "print(\"Reminder that 1 - Rsquared equals the percentage of the firms total risk that can be diversified away (idiosyncratic)\")"
   ]
  },
  {
   "cell_type": "code",
   "execution_count": 10,
   "id": "8368ef10",
   "metadata": {},
   "outputs": [
    {
     "name": "stdout",
     "output_type": "stream",
     "text": [
      "The Adjusted Beta For MSFT is: 0.8944133010119615\n"
     ]
    }
   ],
   "source": [
    "#Adjusted Betas\n",
    "l = 0.33\n",
    "hBeta = res.params[1]\n",
    "Adj_Beta = hBeta * (1-l) + l\n",
    "print(f\"The Adjusted Beta For {ticker} is: {Adj_Beta}\")"
   ]
  },
  {
   "cell_type": "code",
   "execution_count": 11,
   "id": "8486b38a-f2d8-476b-80a4-4cb146d248ef",
   "metadata": {},
   "outputs": [
    {
     "name": "stdout",
     "output_type": "stream",
     "text": [
      "The total risk of MSFT equals: 0.00403226905849385\n",
      "\n",
      "\n",
      "The systematic risk equals: 0.002129848072255152\n",
      "The idiosyncratic risk equals: 0.001902420986238698\n",
      "\n",
      " percent systematic risk =  0.5282 \n",
      " percent idiosyncratic risk =  0.4718\n"
     ]
    }
   ],
   "source": [
    "tot_risk  = y.var()\n",
    "\n",
    "print(f\"The total risk of {ticker} equals: {tot_risk}\")\n",
    "\n",
    "indent()\n",
    "\n",
    "beta = res.params['Mkt-RF']\n",
    "sys_risk  = (beta**2) * data['Mkt-RF'].var() \n",
    "\n",
    "print(f\"The systematic risk equals: {sys_risk}\")\n",
    "\n",
    "#Idiosyncratic Risk \n",
    "idio_risk = tot_risk - sys_risk\n",
    "print(f\"The idiosyncratic risk equals: {idio_risk}\")\n",
    "\n",
    "#As percentages\n",
    "# Print as percentages of total risk\n",
    "pct_sys_risk = sys_risk / tot_risk\n",
    "pct_idio_risk = idio_risk / tot_risk\n",
    "print(f'\\n percent systematic risk = {pct_sys_risk: .4f} \\n percent idiosyncratic risk = {pct_idio_risk: .4f}')"
   ]
  },
  {
   "cell_type": "code",
   "execution_count": 12,
   "id": "71d4a1d2",
   "metadata": {},
   "outputs": [
    {
     "name": "stdout",
     "output_type": "stream",
     "text": [
      "The Annualized Cost of Equity for MSFT is: 16.797%\n"
     ]
    }
   ],
   "source": [
    "#Single Factor Cost of Equity\n",
    "Emrp = sum(ff3f['Mkt-RF']) / len(ff3f['Mkt-RF'])\n",
    "Rf = 0.005 #Set this depending if RF is given to you in question, or if the question asks to use to most recent number\n",
    "COE = (Rf + hBeta * Emrp) *12 * 100\n",
    "COE_r = round(COE, 3)\n",
    "print(f\"The Annualized Cost of Equity for {ticker} is: {COE_r}%\")"
   ]
  },
  {
   "cell_type": "code",
   "execution_count": 13,
   "id": "b0c5515e-8fce-4282-b014-b59df0400204",
   "metadata": {
    "tags": []
   },
   "outputs": [
    {
     "name": "stdout",
     "output_type": "stream",
     "text": [
      "Cannot reject the null that alpha is 0: we do not have sifficient eidence that the stock is mispriced\n"
     ]
    }
   ],
   "source": [
    "#Single Factor P Val Interpretation\n",
    "p_vals1 = res.pvalues\n",
    "alpha = res.params[0]\n",
    "if p_vals1['const'] < 0.01: #Set your significance level here\n",
    "    print(f\"Reject the null that true alpha is 0: we should reject the null hypothesis that the true alpha is 0\")\n",
    "    if alpha > 0:\n",
    "        print(f\"{ticker} is undervalued\")\n",
    "    else:\n",
    "        print(f\"{ticker} is overvalued\")\n",
    "else:\n",
    "    print(f\"Cannot reject the null that alpha is 0: we do not have sifficient eidence that the stock is mispriced\")"
   ]
  },
  {
   "cell_type": "code",
   "execution_count": 14,
   "id": "bc244ed1",
   "metadata": {},
   "outputs": [
    {
     "name": "stdout",
     "output_type": "stream",
     "text": [
      "Fama French 3 Factor Regression\n",
      "                            OLS Regression Results                            \n",
      "==============================================================================\n",
      "Dep. Variable:                      y   R-squared:                       0.737\n",
      "Model:                            OLS   Adj. R-squared:                  0.722\n",
      "Method:                 Least Squares   F-statistic:                     52.18\n",
      "Date:                Mon, 08 Apr 2024   Prob (F-statistic):           3.16e-16\n",
      "Time:                        11:55:07   Log-Likelihood:                 120.78\n",
      "No. Observations:                  60   AIC:                            -233.6\n",
      "Df Residuals:                      56   BIC:                            -225.2\n",
      "Df Model:                           3                                         \n",
      "Covariance Type:            nonrobust                                         \n",
      "==============================================================================\n",
      "                 coef    std err          t      P>|t|      [0.025      0.975]\n",
      "------------------------------------------------------------------------------\n",
      "const          0.0123      0.004      2.772      0.008       0.003       0.021\n",
      "Mkt-RF         0.9651      0.084     11.519      0.000       0.797       1.133\n",
      "SMB           -0.5729      0.155     -3.695      0.001      -0.884      -0.262\n",
      "HML           -0.4931      0.093     -5.323      0.000      -0.679      -0.308\n",
      "==============================================================================\n",
      "Omnibus:                        6.229   Durbin-Watson:                   2.203\n",
      "Prob(Omnibus):                  0.044   Jarque-Bera (JB):                5.703\n",
      "Skew:                           0.526   Prob(JB):                       0.0578\n",
      "Kurtosis:                       4.083   Cond. No.                         36.6\n",
      "==============================================================================\n",
      "\n",
      "Notes:\n",
      "[1] Standard Errors assume that the covariance matrix of the errors is correctly specified.\n"
     ]
    }
   ],
   "source": [
    "#Estimate the Fama-French three factor model using the data gathered above\n",
    "\n",
    "\n",
    "# Set up X variables\n",
    "X3 = data[['const','Mkt-RF','SMB','HML']]\n",
    "# Run regression\n",
    "res3 = sm.OLS(y,X3).fit()\n",
    "print(\"Fama French 3 Factor Regression\")\n",
    "print(res3.summary())"
   ]
  },
  {
   "cell_type": "code",
   "execution_count": 15,
   "id": "68fb82ef-8412-4d22-812f-79c05338871f",
   "metadata": {
    "tags": []
   },
   "outputs": [
    {
     "name": "stdout",
     "output_type": "stream",
     "text": [
      "The Adjusted Three Factor Beta For MSFT is: 0.9766412699638176\n"
     ]
    }
   ],
   "source": [
    "#Three Factor Adjusted Beta\n",
    "h3Beta = res3.params[1]\n",
    "Adj_Beta = h3Beta * (1-l) + l\n",
    "print(f\"The Adjusted Three Factor Beta For {ticker} is: {Adj_Beta}\")"
   ]
  },
  {
   "cell_type": "code",
   "execution_count": 16,
   "id": "b9844ad2",
   "metadata": {},
   "outputs": [
    {
     "name": "stdout",
     "output_type": "stream",
     "text": [
      "Again, the total risk of MSFT equals: 0.00403226905849385\n",
      "\n",
      "\n",
      "The 3 factor systematic risk equals: 0.0027956383084422405\n",
      "The 3 factor idiosyncratic risk equals: 0.001902420986238698\n"
     ]
    }
   ],
   "source": [
    "# Total risk of our stock (variance) in 3 factor (also works in single factor)\n",
    "\n",
    "print(f\"Again, the total risk of {ticker} equals: {tot_risk}\")\n",
    "\n",
    "indent()\n",
    "\n",
    "# Systematic Risk\n",
    "beta3 = res3.params['Mkt-RF']\n",
    "sys_risk3  = (beta3**2) * data['Mkt-RF'].var() \n",
    "\n",
    "print(f\"The 3 factor systematic risk equals: {sys_risk3}\")\n",
    "\n",
    "#Idiosyncratic Risk \n",
    "idio_risk3 = tot_risk - sys_risk\n",
    "print(f\"The 3 factor idiosyncratic risk equals: {idio_risk3}\")"
   ]
  },
  {
   "cell_type": "code",
   "execution_count": 17,
   "id": "cb966e6f",
   "metadata": {
    "tags": []
   },
   "outputs": [
    {
     "name": "stdout",
     "output_type": "stream",
     "text": [
      "\n",
      " 3 factor percent systematic risk =  0.6933 \n",
      " 3 factor percent idiosyncratic risk =  0.4718\n"
     ]
    }
   ],
   "source": [
    "# Print as percentages of total risk\n",
    "pct_sys_risk = sys_risk3 / tot_risk\n",
    "pct_idio_risk = idio_risk3 / tot_risk\n",
    "print(f'\\n 3 factor percent systematic risk = {pct_sys_risk: .4f} \\n 3 factor percent idiosyncratic risk = {pct_idio_risk: .4f}')"
   ]
  },
  {
   "cell_type": "code",
   "execution_count": 18,
   "id": "e2622bb9-dddd-4b1a-9a9e-54c0a6929e1a",
   "metadata": {
    "tags": []
   },
   "outputs": [
    {
     "name": "stdout",
     "output_type": "stream",
     "text": [
      "Reject the null that true alpha is 0: we should reject the null hypothesis that the true alpha is 0\n"
     ]
    }
   ],
   "source": [
    "#Pvalue and Alpha for 3 factor model\n",
    "p_vals = res3.pvalues\n",
    "if p_vals['const'] < 0.01: #Set your significance level here\n",
    "    print(f\"Reject the null that true alpha is 0: we should reject the null hypothesis that the true alpha is 0\")\n",
    "else:\n",
    "    print(f\"Cannot reject the null that alpha is 0: we do not have sifficient eidence that the stock is mispriced\")"
   ]
  },
  {
   "cell_type": "code",
   "execution_count": 19,
   "id": "cf92ec4c",
   "metadata": {
    "tags": []
   },
   "outputs": [
    {
     "name": "stdout",
     "output_type": "stream",
     "text": [
      " HML - -0.4930902533532801 and SMB - -0.5729045763231198 and the market beta 0.9651362238265935\n",
      "The **Annualized*** Cost of Equity for MSFT is: 20.416%\n"
     ]
    }
   ],
   "source": [
    "#Cost of Equity in 3 factor\n",
    "#We already have our risk free rate variabe \"Rf\" \n",
    "#and the expected Market RIsk Premium \"Ermp\" and beta for the stock \"hBeta\"\n",
    "#We now need the exp ret for our other two factors and their betas\n",
    "#also we need to update the beta \"hBeta\" to \"h3Beta\"\n",
    "\n",
    "#Expected Returns\n",
    "ErSMB = sum(ff3f['SMB']) / len(ff3f['SMB'])\n",
    "ErHML = sum(ff3f['HML']) / len(ff3f['HML'])\n",
    "\n",
    "#SMB, HML, and 3h Betas\n",
    "Bhml = res3.params[3]\n",
    "Bsmb = res3.params[2]\n",
    "h3Beta = res3.params[1]\n",
    "print(f\" HML - {Bhml} and SMB - {Bsmb} and the market beta {h3Beta}\")\n",
    "\n",
    "\n",
    "f3COE = Rf + (h3Beta * Emrp) + (Bsmb * ErSMB) + (Bhml * ErHML)\n",
    "Af3COE = (f3COE * 12) * 100\n",
    "\n",
    "\n",
    "print(f\"The **Annualized*** Cost of Equity for {ticker} is: {Af3COE.round(3)}%\")\n"
   ]
  },
  {
   "cell_type": "code",
   "execution_count": null,
   "id": "b65e348d",
   "metadata": {},
   "outputs": [],
   "source": []
  },
  {
   "cell_type": "code",
   "execution_count": null,
   "id": "4c4e8220-9b50-4c50-b891-2ccaf587af1a",
   "metadata": {},
   "outputs": [],
   "source": []
  }
 ],
 "metadata": {
  "kernelspec": {
   "display_name": "Python 3 (ipykernel)",
   "language": "python",
   "name": "python3"
  },
  "language_info": {
   "codemirror_mode": {
    "name": "ipython",
    "version": 3
   },
   "file_extension": ".py",
   "mimetype": "text/x-python",
   "name": "python",
   "nbconvert_exporter": "python",
   "pygments_lexer": "ipython3",
   "version": "3.11.5"
  }
 },
 "nbformat": 4,
 "nbformat_minor": 5
}
